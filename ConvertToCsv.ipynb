{
 "cells": [
  {
   "cell_type": "code",
   "execution_count": 1,
   "metadata": {},
   "outputs": [],
   "source": [
    "import pandas as pd\n",
    "import glob\n",
    "import scipy.io\n",
    "import os"
   ]
  },
  {
   "cell_type": "code",
   "execution_count": 15,
   "metadata": {},
   "outputs": [],
   "source": [
    "def foo(extension):\n",
    "    return '*.' + ''.join('[%s%s]' % (e.lower(), e.upper()) for e in extension)"
   ]
  },
  {
   "cell_type": "code",
   "execution_count": null,
   "metadata": {},
   "outputs": [],
   "source": [
    "videos = [file for s in glob.glob(os.path.join(dir, '*.[mM][oO][vV]'))] "
   ]
  },
  {
   "cell_type": "markdown",
   "metadata": {},
   "source": [
    "# EEG"
   ]
  },
  {
   "cell_type": "code",
   "execution_count": 7,
   "metadata": {},
   "outputs": [
    {
     "name": "stdout",
     "output_type": "stream",
     "text": [
      "FarajollahiH 0\n",
      "Ghomlaghi__ 0\n",
      "FarajollahiH 0\n",
      "Ghorbani__ 0\n",
      "Kordrostami__ 0\n",
      "Yerosameli__ 0\n"
     ]
    }
   ],
   "source": [
    "s = glob.glob('C:\\\\Users\\\\Marababpour\\\\Desktop\\\\PhD project\\\\Bike saftey perception by EEG\\\\Data Collection\\\\Results\\\\Test resualts\\\\*')\n",
    "for i in s:\n",
    "    name = i.split('\\\\')[-1].split(' ')[-1]\n",
    "    path = i+'\\\\'+name+'\\\\results\\\\features\\\\export\\\\vector\\\\'\n",
    "    m = glob.glob(path+'*RD*.mat')\n",
    "    if len(m)!=4:\n",
    "        print(name,len(m))\n",
    "    for file in m:\n",
    "        mat=scipy.io.loadmat(file)\n",
    "        data_name = list(mat.keys())[-1]\n",
    "        data = mat[data_name][0][0][0]\n",
    "        df = pd.DataFrame(data)\n",
    "#         print(df)\n",
    "#         print(path+data_name+'.csv')\n",
    "#         df.to_csv(path+data_name+'.csv',index=False) #your_data.csv final data in csv file\n",
    "        "
   ]
  },
  {
   "cell_type": "code",
   "execution_count": 32,
   "metadata": {},
   "outputs": [
    {
     "name": "stdout",
     "output_type": "stream",
     "text": [
      "184\n"
     ]
    }
   ],
   "source": [
    "print(j)"
   ]
  },
  {
   "cell_type": "code",
   "execution_count": null,
   "metadata": {},
   "outputs": [],
   "source": []
  },
  {
   "cell_type": "code",
   "execution_count": null,
   "metadata": {},
   "outputs": [],
   "source": []
  },
  {
   "cell_type": "code",
   "execution_count": null,
   "metadata": {},
   "outputs": [],
   "source": []
  },
  {
   "cell_type": "code",
   "execution_count": null,
   "metadata": {},
   "outputs": [],
   "source": []
  },
  {
   "cell_type": "code",
   "execution_count": 6,
   "metadata": {},
   "outputs": [
    {
     "name": "stdout",
     "output_type": "stream",
     "text": [
      "53\n",
      "['C:\\\\Users\\\\Marababpour\\\\Desktop\\\\PhD project\\\\Bike saftey perception by EEG\\\\Data Collection\\\\Results\\\\Test resualts\\\\B1 - Akrami\\\\Akrami\\\\results\\\\features\\\\export\\\\vector\\\\AkramiRD1.mat', 'C:\\\\Users\\\\Marababpour\\\\Desktop\\\\PhD project\\\\Bike saftey perception by EEG\\\\Data Collection\\\\Results\\\\Test resualts\\\\B1 - Akrami\\\\Akrami\\\\results\\\\features\\\\export\\\\vector\\\\AkramiRD2.mat', 'C:\\\\Users\\\\Marababpour\\\\Desktop\\\\PhD project\\\\Bike saftey perception by EEG\\\\Data Collection\\\\Results\\\\Test resualts\\\\B1 - Akrami\\\\Akrami\\\\results\\\\features\\\\export\\\\vector\\\\AkramiRD3.mat', 'C:\\\\Users\\\\Marababpour\\\\Desktop\\\\PhD project\\\\Bike saftey perception by EEG\\\\Data Collection\\\\Results\\\\Test resualts\\\\B1 - Akrami\\\\Akrami\\\\results\\\\features\\\\export\\\\vector\\\\AkramiRD4.mat']\n",
      "['C:\\\\Users\\\\Marababpour\\\\Desktop\\\\PhD project\\\\Bike saftey perception by EEG\\\\Data Collection\\\\Results\\\\Test resualts\\\\B1 - Ekramifard\\\\Ekramifard\\\\results\\\\features\\\\export\\\\vector\\\\Ekramifard1.mat', 'C:\\\\Users\\\\Marababpour\\\\Desktop\\\\PhD project\\\\Bike saftey perception by EEG\\\\Data Collection\\\\Results\\\\Test resualts\\\\B1 - Ekramifard\\\\Ekramifard\\\\results\\\\features\\\\export\\\\vector\\\\Ekramifard2.mat', 'C:\\\\Users\\\\Marababpour\\\\Desktop\\\\PhD project\\\\Bike saftey perception by EEG\\\\Data Collection\\\\Results\\\\Test resualts\\\\B1 - Ekramifard\\\\Ekramifard\\\\results\\\\features\\\\export\\\\vector\\\\Ekramifard3.mat', 'C:\\\\Users\\\\Marababpour\\\\Desktop\\\\PhD project\\\\Bike saftey perception by EEG\\\\Data Collection\\\\Results\\\\Test resualts\\\\B1 - Ekramifard\\\\Ekramifard\\\\results\\\\features\\\\export\\\\vector\\\\Ekramifard4.mat', 'C:\\\\Users\\\\Marababpour\\\\Desktop\\\\PhD project\\\\Bike saftey perception by EEG\\\\Data Collection\\\\Results\\\\Test resualts\\\\B1 - Ekramifard\\\\Ekramifard\\\\results\\\\features\\\\export\\\\vector\\\\EkramifardPSD1.mat', 'C:\\\\Users\\\\Marababpour\\\\Desktop\\\\PhD project\\\\Bike saftey perception by EEG\\\\Data Collection\\\\Results\\\\Test resualts\\\\B1 - Ekramifard\\\\Ekramifard\\\\results\\\\features\\\\export\\\\vector\\\\EkramifardPSD2.mat', 'C:\\\\Users\\\\Marababpour\\\\Desktop\\\\PhD project\\\\Bike saftey perception by EEG\\\\Data Collection\\\\Results\\\\Test resualts\\\\B1 - Ekramifard\\\\Ekramifard\\\\results\\\\features\\\\export\\\\vector\\\\EkramifardPSD3.mat', 'C:\\\\Users\\\\Marababpour\\\\Desktop\\\\PhD project\\\\Bike saftey perception by EEG\\\\Data Collection\\\\Results\\\\Test resualts\\\\B1 - Ekramifard\\\\Ekramifard\\\\results\\\\features\\\\export\\\\vector\\\\EkramifardPSD4.mat', 'C:\\\\Users\\\\Marababpour\\\\Desktop\\\\PhD project\\\\Bike saftey perception by EEG\\\\Data Collection\\\\Results\\\\Test resualts\\\\B1 - Ekramifard\\\\Ekramifard\\\\results\\\\features\\\\export\\\\vector\\\\EkramifardRD1.mat', 'C:\\\\Users\\\\Marababpour\\\\Desktop\\\\PhD project\\\\Bike saftey perception by EEG\\\\Data Collection\\\\Results\\\\Test resualts\\\\B1 - Ekramifard\\\\Ekramifard\\\\results\\\\features\\\\export\\\\vector\\\\EkramifardRD2.mat', 'C:\\\\Users\\\\Marababpour\\\\Desktop\\\\PhD project\\\\Bike saftey perception by EEG\\\\Data Collection\\\\Results\\\\Test resualts\\\\B1 - Ekramifard\\\\Ekramifard\\\\results\\\\features\\\\export\\\\vector\\\\EkramifardRD3.mat', 'C:\\\\Users\\\\Marababpour\\\\Desktop\\\\PhD project\\\\Bike saftey perception by EEG\\\\Data Collection\\\\Results\\\\Test resualts\\\\B1 - Ekramifard\\\\Ekramifard\\\\results\\\\features\\\\export\\\\vector\\\\EkramifardRD4.mat', 'C:\\\\Users\\\\Marababpour\\\\Desktop\\\\PhD project\\\\Bike saftey perception by EEG\\\\Data Collection\\\\Results\\\\Test resualts\\\\B1 - Ekramifard\\\\Ekramifard\\\\results\\\\features\\\\export\\\\vector\\\\normalized_EkramifardPSD1.mat', 'C:\\\\Users\\\\Marababpour\\\\Desktop\\\\PhD project\\\\Bike saftey perception by EEG\\\\Data Collection\\\\Results\\\\Test resualts\\\\B1 - Ekramifard\\\\Ekramifard\\\\results\\\\features\\\\export\\\\vector\\\\normalized_EkramifardPSD2.mat', 'C:\\\\Users\\\\Marababpour\\\\Desktop\\\\PhD project\\\\Bike saftey perception by EEG\\\\Data Collection\\\\Results\\\\Test resualts\\\\B1 - Ekramifard\\\\Ekramifard\\\\results\\\\features\\\\export\\\\vector\\\\normalized_EkramifardPSD3.mat', 'C:\\\\Users\\\\Marababpour\\\\Desktop\\\\PhD project\\\\Bike saftey perception by EEG\\\\Data Collection\\\\Results\\\\Test resualts\\\\B1 - Ekramifard\\\\Ekramifard\\\\results\\\\features\\\\export\\\\vector\\\\normalized_EkramifardPSD4.mat']\n",
      "['C:\\\\Users\\\\Marababpour\\\\Desktop\\\\PhD project\\\\Bike saftey perception by EEG\\\\Data Collection\\\\Results\\\\Test resualts\\\\B1 - Firoozi\\\\Firoozi\\\\results\\\\features\\\\export\\\\vector\\\\FirooziRD1.mat', 'C:\\\\Users\\\\Marababpour\\\\Desktop\\\\PhD project\\\\Bike saftey perception by EEG\\\\Data Collection\\\\Results\\\\Test resualts\\\\B1 - Firoozi\\\\Firoozi\\\\results\\\\features\\\\export\\\\vector\\\\FirooziRD2.mat', 'C:\\\\Users\\\\Marababpour\\\\Desktop\\\\PhD project\\\\Bike saftey perception by EEG\\\\Data Collection\\\\Results\\\\Test resualts\\\\B1 - Firoozi\\\\Firoozi\\\\results\\\\features\\\\export\\\\vector\\\\FirooziRD3.mat', 'C:\\\\Users\\\\Marababpour\\\\Desktop\\\\PhD project\\\\Bike saftey perception by EEG\\\\Data Collection\\\\Results\\\\Test resualts\\\\B1 - Firoozi\\\\Firoozi\\\\results\\\\features\\\\export\\\\vector\\\\FirooziRD4.mat']\n",
      "['C:\\\\Users\\\\Marababpour\\\\Desktop\\\\PhD project\\\\Bike saftey perception by EEG\\\\Data Collection\\\\Results\\\\Test resualts\\\\B1 - JelibaghooS\\\\JelibaghooS\\\\results\\\\features\\\\export\\\\vector\\\\JelibaghooSRD1.mat', 'C:\\\\Users\\\\Marababpour\\\\Desktop\\\\PhD project\\\\Bike saftey perception by EEG\\\\Data Collection\\\\Results\\\\Test resualts\\\\B1 - JelibaghooS\\\\JelibaghooS\\\\results\\\\features\\\\export\\\\vector\\\\JelibaghooSRD2.mat', 'C:\\\\Users\\\\Marababpour\\\\Desktop\\\\PhD project\\\\Bike saftey perception by EEG\\\\Data Collection\\\\Results\\\\Test resualts\\\\B1 - JelibaghooS\\\\JelibaghooS\\\\results\\\\features\\\\export\\\\vector\\\\JelibaghooSRD3.mat', 'C:\\\\Users\\\\Marababpour\\\\Desktop\\\\PhD project\\\\Bike saftey perception by EEG\\\\Data Collection\\\\Results\\\\Test resualts\\\\B1 - JelibaghooS\\\\JelibaghooS\\\\results\\\\features\\\\export\\\\vector\\\\JelibaghooSRD4.mat']\n",
      "['C:\\\\Users\\\\Marababpour\\\\Desktop\\\\PhD project\\\\Bike saftey perception by EEG\\\\Data Collection\\\\Results\\\\Test resualts\\\\B1 - Karami\\\\Karami\\\\results\\\\features\\\\export\\\\vector\\\\KaramiRD1.mat', 'C:\\\\Users\\\\Marababpour\\\\Desktop\\\\PhD project\\\\Bike saftey perception by EEG\\\\Data Collection\\\\Results\\\\Test resualts\\\\B1 - Karami\\\\Karami\\\\results\\\\features\\\\export\\\\vector\\\\KaramiRD2.mat', 'C:\\\\Users\\\\Marababpour\\\\Desktop\\\\PhD project\\\\Bike saftey perception by EEG\\\\Data Collection\\\\Results\\\\Test resualts\\\\B1 - Karami\\\\Karami\\\\results\\\\features\\\\export\\\\vector\\\\KaramiRD3.mat', 'C:\\\\Users\\\\Marababpour\\\\Desktop\\\\PhD project\\\\Bike saftey perception by EEG\\\\Data Collection\\\\Results\\\\Test resualts\\\\B1 - Karami\\\\Karami\\\\results\\\\features\\\\export\\\\vector\\\\KaramiRD4.mat']\n",
      "['C:\\\\Users\\\\Marababpour\\\\Desktop\\\\PhD project\\\\Bike saftey perception by EEG\\\\Data Collection\\\\Results\\\\Test resualts\\\\B1 - Khademhossein\\\\Khademhossein\\\\results\\\\features\\\\export\\\\vector\\\\KhademhosseinRD1.mat', 'C:\\\\Users\\\\Marababpour\\\\Desktop\\\\PhD project\\\\Bike saftey perception by EEG\\\\Data Collection\\\\Results\\\\Test resualts\\\\B1 - Khademhossein\\\\Khademhossein\\\\results\\\\features\\\\export\\\\vector\\\\KhademhosseinRD2.mat', 'C:\\\\Users\\\\Marababpour\\\\Desktop\\\\PhD project\\\\Bike saftey perception by EEG\\\\Data Collection\\\\Results\\\\Test resualts\\\\B1 - Khademhossein\\\\Khademhossein\\\\results\\\\features\\\\export\\\\vector\\\\KhademhosseinRD3.mat', 'C:\\\\Users\\\\Marababpour\\\\Desktop\\\\PhD project\\\\Bike saftey perception by EEG\\\\Data Collection\\\\Results\\\\Test resualts\\\\B1 - Khademhossein\\\\Khademhossein\\\\results\\\\features\\\\export\\\\vector\\\\KhademhosseinRD4.mat']\n",
      "['C:\\\\Users\\\\Marababpour\\\\Desktop\\\\PhD project\\\\Bike saftey perception by EEG\\\\Data Collection\\\\Results\\\\Test resualts\\\\B1 - Peyman\\\\Peyman\\\\results\\\\features\\\\export\\\\vector\\\\PeymanRD1.mat', 'C:\\\\Users\\\\Marababpour\\\\Desktop\\\\PhD project\\\\Bike saftey perception by EEG\\\\Data Collection\\\\Results\\\\Test resualts\\\\B1 - Peyman\\\\Peyman\\\\results\\\\features\\\\export\\\\vector\\\\PeymanRD2.mat', 'C:\\\\Users\\\\Marababpour\\\\Desktop\\\\PhD project\\\\Bike saftey perception by EEG\\\\Data Collection\\\\Results\\\\Test resualts\\\\B1 - Peyman\\\\Peyman\\\\results\\\\features\\\\export\\\\vector\\\\PeymanRD3.mat', 'C:\\\\Users\\\\Marababpour\\\\Desktop\\\\PhD project\\\\Bike saftey perception by EEG\\\\Data Collection\\\\Results\\\\Test resualts\\\\B1 - Peyman\\\\Peyman\\\\results\\\\features\\\\export\\\\vector\\\\PeymanRD4.mat']\n",
      "['C:\\\\Users\\\\Marababpour\\\\Desktop\\\\PhD project\\\\Bike saftey perception by EEG\\\\Data Collection\\\\Results\\\\Test resualts\\\\B1 - Ranjbar\\\\Ranjbar\\\\results\\\\features\\\\export\\\\vector\\\\RanjbarRD1.mat', 'C:\\\\Users\\\\Marababpour\\\\Desktop\\\\PhD project\\\\Bike saftey perception by EEG\\\\Data Collection\\\\Results\\\\Test resualts\\\\B1 - Ranjbar\\\\Ranjbar\\\\results\\\\features\\\\export\\\\vector\\\\RanjbarRD2.mat', 'C:\\\\Users\\\\Marababpour\\\\Desktop\\\\PhD project\\\\Bike saftey perception by EEG\\\\Data Collection\\\\Results\\\\Test resualts\\\\B1 - Ranjbar\\\\Ranjbar\\\\results\\\\features\\\\export\\\\vector\\\\RanjbarRD3.mat', 'C:\\\\Users\\\\Marababpour\\\\Desktop\\\\PhD project\\\\Bike saftey perception by EEG\\\\Data Collection\\\\Results\\\\Test resualts\\\\B1 - Ranjbar\\\\Ranjbar\\\\results\\\\features\\\\export\\\\vector\\\\RanjbarRD4.mat']\n",
      "['C:\\\\Users\\\\Marababpour\\\\Desktop\\\\PhD project\\\\Bike saftey perception by EEG\\\\Data Collection\\\\Results\\\\Test resualts\\\\B1 - Sarkandi\\\\Sarkandi\\\\results\\\\features\\\\export\\\\vector\\\\SarkandiRD1.mat', 'C:\\\\Users\\\\Marababpour\\\\Desktop\\\\PhD project\\\\Bike saftey perception by EEG\\\\Data Collection\\\\Results\\\\Test resualts\\\\B1 - Sarkandi\\\\Sarkandi\\\\results\\\\features\\\\export\\\\vector\\\\SarkandiRD2.mat', 'C:\\\\Users\\\\Marababpour\\\\Desktop\\\\PhD project\\\\Bike saftey perception by EEG\\\\Data Collection\\\\Results\\\\Test resualts\\\\B1 - Sarkandi\\\\Sarkandi\\\\results\\\\features\\\\export\\\\vector\\\\SarkandiRD3.mat', 'C:\\\\Users\\\\Marababpour\\\\Desktop\\\\PhD project\\\\Bike saftey perception by EEG\\\\Data Collection\\\\Results\\\\Test resualts\\\\B1 - Sarkandi\\\\Sarkandi\\\\results\\\\features\\\\export\\\\vector\\\\SarkandiRD4.mat']\n",
      "['C:\\\\Users\\\\Marababpour\\\\Desktop\\\\PhD project\\\\Bike saftey perception by EEG\\\\Data Collection\\\\Results\\\\Test resualts\\\\B1 - Soleimanpour\\\\Soleimanpour\\\\results\\\\features\\\\export\\\\vector\\\\SoleimanpourRD1.mat', 'C:\\\\Users\\\\Marababpour\\\\Desktop\\\\PhD project\\\\Bike saftey perception by EEG\\\\Data Collection\\\\Results\\\\Test resualts\\\\B1 - Soleimanpour\\\\Soleimanpour\\\\results\\\\features\\\\export\\\\vector\\\\SoleimanpourRD2.mat', 'C:\\\\Users\\\\Marababpour\\\\Desktop\\\\PhD project\\\\Bike saftey perception by EEG\\\\Data Collection\\\\Results\\\\Test resualts\\\\B1 - Soleimanpour\\\\Soleimanpour\\\\results\\\\features\\\\export\\\\vector\\\\SoleimanpourRD3.mat', 'C:\\\\Users\\\\Marababpour\\\\Desktop\\\\PhD project\\\\Bike saftey perception by EEG\\\\Data Collection\\\\Results\\\\Test resualts\\\\B1 - Soleimanpour\\\\Soleimanpour\\\\results\\\\features\\\\export\\\\vector\\\\SoleimanpourRD4.mat']\n",
      "['C:\\\\Users\\\\Marababpour\\\\Desktop\\\\PhD project\\\\Bike saftey perception by EEG\\\\Data Collection\\\\Results\\\\Test resualts\\\\B2 - Bakhshizadeh\\\\Bakhshizadeh\\\\results\\\\features\\\\export\\\\vector\\\\BakhshizadehRD1.mat', 'C:\\\\Users\\\\Marababpour\\\\Desktop\\\\PhD project\\\\Bike saftey perception by EEG\\\\Data Collection\\\\Results\\\\Test resualts\\\\B2 - Bakhshizadeh\\\\Bakhshizadeh\\\\results\\\\features\\\\export\\\\vector\\\\BakhshizadehRD2.mat', 'C:\\\\Users\\\\Marababpour\\\\Desktop\\\\PhD project\\\\Bike saftey perception by EEG\\\\Data Collection\\\\Results\\\\Test resualts\\\\B2 - Bakhshizadeh\\\\Bakhshizadeh\\\\results\\\\features\\\\export\\\\vector\\\\BakhshizadehRD3.mat', 'C:\\\\Users\\\\Marababpour\\\\Desktop\\\\PhD project\\\\Bike saftey perception by EEG\\\\Data Collection\\\\Results\\\\Test resualts\\\\B2 - Bakhshizadeh\\\\Bakhshizadeh\\\\results\\\\features\\\\export\\\\vector\\\\BakhshizadehRD4.mat']\n",
      "['C:\\\\Users\\\\Marababpour\\\\Desktop\\\\PhD project\\\\Bike saftey perception by EEG\\\\Data Collection\\\\Results\\\\Test resualts\\\\B2 - Behmanesh\\\\Behmanesh\\\\results\\\\features\\\\export\\\\vector\\\\BehmaneshRD1.mat', 'C:\\\\Users\\\\Marababpour\\\\Desktop\\\\PhD project\\\\Bike saftey perception by EEG\\\\Data Collection\\\\Results\\\\Test resualts\\\\B2 - Behmanesh\\\\Behmanesh\\\\results\\\\features\\\\export\\\\vector\\\\BehmaneshRD2.mat', 'C:\\\\Users\\\\Marababpour\\\\Desktop\\\\PhD project\\\\Bike saftey perception by EEG\\\\Data Collection\\\\Results\\\\Test resualts\\\\B2 - Behmanesh\\\\Behmanesh\\\\results\\\\features\\\\export\\\\vector\\\\BehmaneshRD3.mat', 'C:\\\\Users\\\\Marababpour\\\\Desktop\\\\PhD project\\\\Bike saftey perception by EEG\\\\Data Collection\\\\Results\\\\Test resualts\\\\B2 - Behmanesh\\\\Behmanesh\\\\results\\\\features\\\\export\\\\vector\\\\BehmaneshRD4.mat']\n",
      "['C:\\\\Users\\\\Marababpour\\\\Desktop\\\\PhD project\\\\Bike saftey perception by EEG\\\\Data Collection\\\\Results\\\\Test resualts\\\\B2 - Farajolahi\\\\Farajolahi\\\\results\\\\features\\\\export\\\\vector\\\\FarajolahiRD1.mat', 'C:\\\\Users\\\\Marababpour\\\\Desktop\\\\PhD project\\\\Bike saftey perception by EEG\\\\Data Collection\\\\Results\\\\Test resualts\\\\B2 - Farajolahi\\\\Farajolahi\\\\results\\\\features\\\\export\\\\vector\\\\FarajolahiRD2.mat', 'C:\\\\Users\\\\Marababpour\\\\Desktop\\\\PhD project\\\\Bike saftey perception by EEG\\\\Data Collection\\\\Results\\\\Test resualts\\\\B2 - Farajolahi\\\\Farajolahi\\\\results\\\\features\\\\export\\\\vector\\\\FarajolahiRD3.mat', 'C:\\\\Users\\\\Marababpour\\\\Desktop\\\\PhD project\\\\Bike saftey perception by EEG\\\\Data Collection\\\\Results\\\\Test resualts\\\\B2 - Farajolahi\\\\Farajolahi\\\\results\\\\features\\\\export\\\\vector\\\\FarajolahiRD4.mat']\n",
      "['C:\\\\Users\\\\Marababpour\\\\Desktop\\\\PhD project\\\\Bike saftey perception by EEG\\\\Data Collection\\\\Results\\\\Test resualts\\\\B2 - Fathi\\\\Fathi\\\\results\\\\features\\\\export\\\\vector\\\\FathiRD1.mat', 'C:\\\\Users\\\\Marababpour\\\\Desktop\\\\PhD project\\\\Bike saftey perception by EEG\\\\Data Collection\\\\Results\\\\Test resualts\\\\B2 - Fathi\\\\Fathi\\\\results\\\\features\\\\export\\\\vector\\\\FathiRD2.mat', 'C:\\\\Users\\\\Marababpour\\\\Desktop\\\\PhD project\\\\Bike saftey perception by EEG\\\\Data Collection\\\\Results\\\\Test resualts\\\\B2 - Fathi\\\\Fathi\\\\results\\\\features\\\\export\\\\vector\\\\FathiRD3.mat', 'C:\\\\Users\\\\Marababpour\\\\Desktop\\\\PhD project\\\\Bike saftey perception by EEG\\\\Data Collection\\\\Results\\\\Test resualts\\\\B2 - Fathi\\\\Fathi\\\\results\\\\features\\\\export\\\\vector\\\\FathiRD4.mat']\n",
      "['C:\\\\Users\\\\Marababpour\\\\Desktop\\\\PhD project\\\\Bike saftey perception by EEG\\\\Data Collection\\\\Results\\\\Test resualts\\\\B2 - Karami\\\\Karami\\\\results\\\\features\\\\export\\\\vector\\\\KaramiRD1.mat', 'C:\\\\Users\\\\Marababpour\\\\Desktop\\\\PhD project\\\\Bike saftey perception by EEG\\\\Data Collection\\\\Results\\\\Test resualts\\\\B2 - Karami\\\\Karami\\\\results\\\\features\\\\export\\\\vector\\\\KaramiRD2.mat', 'C:\\\\Users\\\\Marababpour\\\\Desktop\\\\PhD project\\\\Bike saftey perception by EEG\\\\Data Collection\\\\Results\\\\Test resualts\\\\B2 - Karami\\\\Karami\\\\results\\\\features\\\\export\\\\vector\\\\KaramiRD3.mat', 'C:\\\\Users\\\\Marababpour\\\\Desktop\\\\PhD project\\\\Bike saftey perception by EEG\\\\Data Collection\\\\Results\\\\Test resualts\\\\B2 - Karami\\\\Karami\\\\results\\\\features\\\\export\\\\vector\\\\KaramiRD4.mat']\n",
      "['C:\\\\Users\\\\Marababpour\\\\Desktop\\\\PhD project\\\\Bike saftey perception by EEG\\\\Data Collection\\\\Results\\\\Test resualts\\\\B2 - Moradi\\\\Moradi\\\\results\\\\features\\\\export\\\\vector\\\\MoradiRD1.mat', 'C:\\\\Users\\\\Marababpour\\\\Desktop\\\\PhD project\\\\Bike saftey perception by EEG\\\\Data Collection\\\\Results\\\\Test resualts\\\\B2 - Moradi\\\\Moradi\\\\results\\\\features\\\\export\\\\vector\\\\MoradiRD2.mat', 'C:\\\\Users\\\\Marababpour\\\\Desktop\\\\PhD project\\\\Bike saftey perception by EEG\\\\Data Collection\\\\Results\\\\Test resualts\\\\B2 - Moradi\\\\Moradi\\\\results\\\\features\\\\export\\\\vector\\\\MoradiRD3.mat', 'C:\\\\Users\\\\Marababpour\\\\Desktop\\\\PhD project\\\\Bike saftey perception by EEG\\\\Data Collection\\\\Results\\\\Test resualts\\\\B2 - Moradi\\\\Moradi\\\\results\\\\features\\\\export\\\\vector\\\\MoradiRD4.mat']\n",
      "['C:\\\\Users\\\\Marababpour\\\\Desktop\\\\PhD project\\\\Bike saftey perception by EEG\\\\Data Collection\\\\Results\\\\Test resualts\\\\B2 - Nasiri\\\\Nasiri\\\\results\\\\features\\\\export\\\\vector\\\\NasiriRD1.mat', 'C:\\\\Users\\\\Marababpour\\\\Desktop\\\\PhD project\\\\Bike saftey perception by EEG\\\\Data Collection\\\\Results\\\\Test resualts\\\\B2 - Nasiri\\\\Nasiri\\\\results\\\\features\\\\export\\\\vector\\\\NasiriRD2.mat', 'C:\\\\Users\\\\Marababpour\\\\Desktop\\\\PhD project\\\\Bike saftey perception by EEG\\\\Data Collection\\\\Results\\\\Test resualts\\\\B2 - Nasiri\\\\Nasiri\\\\results\\\\features\\\\export\\\\vector\\\\NasiriRD3.mat', 'C:\\\\Users\\\\Marababpour\\\\Desktop\\\\PhD project\\\\Bike saftey perception by EEG\\\\Data Collection\\\\Results\\\\Test resualts\\\\B2 - Nasiri\\\\Nasiri\\\\results\\\\features\\\\export\\\\vector\\\\NasiriRD4.mat']\n",
      "['C:\\\\Users\\\\Marababpour\\\\Desktop\\\\PhD project\\\\Bike saftey perception by EEG\\\\Data Collection\\\\Results\\\\Test resualts\\\\B2 - Nouri\\\\Nouri\\\\results\\\\features\\\\export\\\\vector\\\\NouriRD1.mat', 'C:\\\\Users\\\\Marababpour\\\\Desktop\\\\PhD project\\\\Bike saftey perception by EEG\\\\Data Collection\\\\Results\\\\Test resualts\\\\B2 - Nouri\\\\Nouri\\\\results\\\\features\\\\export\\\\vector\\\\NouriRD2.mat', 'C:\\\\Users\\\\Marababpour\\\\Desktop\\\\PhD project\\\\Bike saftey perception by EEG\\\\Data Collection\\\\Results\\\\Test resualts\\\\B2 - Nouri\\\\Nouri\\\\results\\\\features\\\\export\\\\vector\\\\NouriRD3.mat', 'C:\\\\Users\\\\Marababpour\\\\Desktop\\\\PhD project\\\\Bike saftey perception by EEG\\\\Data Collection\\\\Results\\\\Test resualts\\\\B2 - Nouri\\\\Nouri\\\\results\\\\features\\\\export\\\\vector\\\\NouriRD4.mat']\n",
      "['C:\\\\Users\\\\Marababpour\\\\Desktop\\\\PhD project\\\\Bike saftey perception by EEG\\\\Data Collection\\\\Results\\\\Test resualts\\\\B2 - Rezaie\\\\Rezaie\\\\results\\\\features\\\\export\\\\vector\\\\RezaieRD1.mat', 'C:\\\\Users\\\\Marababpour\\\\Desktop\\\\PhD project\\\\Bike saftey perception by EEG\\\\Data Collection\\\\Results\\\\Test resualts\\\\B2 - Rezaie\\\\Rezaie\\\\results\\\\features\\\\export\\\\vector\\\\RezaieRD2.mat', 'C:\\\\Users\\\\Marababpour\\\\Desktop\\\\PhD project\\\\Bike saftey perception by EEG\\\\Data Collection\\\\Results\\\\Test resualts\\\\B2 - Rezaie\\\\Rezaie\\\\results\\\\features\\\\export\\\\vector\\\\RezaieRD3.mat', 'C:\\\\Users\\\\Marababpour\\\\Desktop\\\\PhD project\\\\Bike saftey perception by EEG\\\\Data Collection\\\\Results\\\\Test resualts\\\\B2 - Rezaie\\\\Rezaie\\\\results\\\\features\\\\export\\\\vector\\\\RezaieRD4.mat']\n",
      "['C:\\\\Users\\\\Marababpour\\\\Desktop\\\\PhD project\\\\Bike saftey perception by EEG\\\\Data Collection\\\\Results\\\\Test resualts\\\\B2 - Samanipoor\\\\Samanipoor\\\\results\\\\features\\\\export\\\\vector\\\\SamanipoorRD1.mat', 'C:\\\\Users\\\\Marababpour\\\\Desktop\\\\PhD project\\\\Bike saftey perception by EEG\\\\Data Collection\\\\Results\\\\Test resualts\\\\B2 - Samanipoor\\\\Samanipoor\\\\results\\\\features\\\\export\\\\vector\\\\SamanipoorRD2.mat', 'C:\\\\Users\\\\Marababpour\\\\Desktop\\\\PhD project\\\\Bike saftey perception by EEG\\\\Data Collection\\\\Results\\\\Test resualts\\\\B2 - Samanipoor\\\\Samanipoor\\\\results\\\\features\\\\export\\\\vector\\\\SamanipoorRD3.mat', 'C:\\\\Users\\\\Marababpour\\\\Desktop\\\\PhD project\\\\Bike saftey perception by EEG\\\\Data Collection\\\\Results\\\\Test resualts\\\\B2 - Samanipoor\\\\Samanipoor\\\\results\\\\features\\\\export\\\\vector\\\\SamanipoorRD4.mat']\n",
      "['C:\\\\Users\\\\Marababpour\\\\Desktop\\\\PhD project\\\\Bike saftey perception by EEG\\\\Data Collection\\\\Results\\\\Test resualts\\\\B3 - Abdolahi\\\\Abdolahi\\\\results\\\\features\\\\export\\\\vector\\\\AbdolahiRD1.mat', 'C:\\\\Users\\\\Marababpour\\\\Desktop\\\\PhD project\\\\Bike saftey perception by EEG\\\\Data Collection\\\\Results\\\\Test resualts\\\\B3 - Abdolahi\\\\Abdolahi\\\\results\\\\features\\\\export\\\\vector\\\\AbdolahiRD2.mat', 'C:\\\\Users\\\\Marababpour\\\\Desktop\\\\PhD project\\\\Bike saftey perception by EEG\\\\Data Collection\\\\Results\\\\Test resualts\\\\B3 - Abdolahi\\\\Abdolahi\\\\results\\\\features\\\\export\\\\vector\\\\AbdolahiRD3.mat', 'C:\\\\Users\\\\Marababpour\\\\Desktop\\\\PhD project\\\\Bike saftey perception by EEG\\\\Data Collection\\\\Results\\\\Test resualts\\\\B3 - Abdolahi\\\\Abdolahi\\\\results\\\\features\\\\export\\\\vector\\\\AbdolahiRD4.mat']\n",
      "['C:\\\\Users\\\\Marababpour\\\\Desktop\\\\PhD project\\\\Bike saftey perception by EEG\\\\Data Collection\\\\Results\\\\Test resualts\\\\B3 - Afand\\\\Afand\\\\results\\\\features\\\\export\\\\vector\\\\AfandRD1.mat', 'C:\\\\Users\\\\Marababpour\\\\Desktop\\\\PhD project\\\\Bike saftey perception by EEG\\\\Data Collection\\\\Results\\\\Test resualts\\\\B3 - Afand\\\\Afand\\\\results\\\\features\\\\export\\\\vector\\\\AfandRD2.mat', 'C:\\\\Users\\\\Marababpour\\\\Desktop\\\\PhD project\\\\Bike saftey perception by EEG\\\\Data Collection\\\\Results\\\\Test resualts\\\\B3 - Afand\\\\Afand\\\\results\\\\features\\\\export\\\\vector\\\\AfandRD3.mat', 'C:\\\\Users\\\\Marababpour\\\\Desktop\\\\PhD project\\\\Bike saftey perception by EEG\\\\Data Collection\\\\Results\\\\Test resualts\\\\B3 - Afand\\\\Afand\\\\results\\\\features\\\\export\\\\vector\\\\AfandRD4.mat']\n",
      "['C:\\\\Users\\\\Marababpour\\\\Desktop\\\\PhD project\\\\Bike saftey perception by EEG\\\\Data Collection\\\\Results\\\\Test resualts\\\\B3 - Amini\\\\Amini\\\\results\\\\features\\\\export\\\\vector\\\\AminiRD1.mat', 'C:\\\\Users\\\\Marababpour\\\\Desktop\\\\PhD project\\\\Bike saftey perception by EEG\\\\Data Collection\\\\Results\\\\Test resualts\\\\B3 - Amini\\\\Amini\\\\results\\\\features\\\\export\\\\vector\\\\AminiRD2.mat', 'C:\\\\Users\\\\Marababpour\\\\Desktop\\\\PhD project\\\\Bike saftey perception by EEG\\\\Data Collection\\\\Results\\\\Test resualts\\\\B3 - Amini\\\\Amini\\\\results\\\\features\\\\export\\\\vector\\\\AminiRD3.mat', 'C:\\\\Users\\\\Marababpour\\\\Desktop\\\\PhD project\\\\Bike saftey perception by EEG\\\\Data Collection\\\\Results\\\\Test resualts\\\\B3 - Amini\\\\Amini\\\\results\\\\features\\\\export\\\\vector\\\\AminiRD4.mat']\n",
      "['C:\\\\Users\\\\Marababpour\\\\Desktop\\\\PhD project\\\\Bike saftey perception by EEG\\\\Data Collection\\\\Results\\\\Test resualts\\\\B3 - Esmaili\\\\Esmaili\\\\results\\\\features\\\\export\\\\vector\\\\EsmailiRD1.mat', 'C:\\\\Users\\\\Marababpour\\\\Desktop\\\\PhD project\\\\Bike saftey perception by EEG\\\\Data Collection\\\\Results\\\\Test resualts\\\\B3 - Esmaili\\\\Esmaili\\\\results\\\\features\\\\export\\\\vector\\\\EsmailiRD2.mat', 'C:\\\\Users\\\\Marababpour\\\\Desktop\\\\PhD project\\\\Bike saftey perception by EEG\\\\Data Collection\\\\Results\\\\Test resualts\\\\B3 - Esmaili\\\\Esmaili\\\\results\\\\features\\\\export\\\\vector\\\\EsmailiRD3.mat', 'C:\\\\Users\\\\Marababpour\\\\Desktop\\\\PhD project\\\\Bike saftey perception by EEG\\\\Data Collection\\\\Results\\\\Test resualts\\\\B3 - Esmaili\\\\Esmaili\\\\results\\\\features\\\\export\\\\vector\\\\EsmailiRD4.mat']\n",
      "[]\n",
      "[]\n",
      "['C:\\\\Users\\\\Marababpour\\\\Desktop\\\\PhD project\\\\Bike saftey perception by EEG\\\\Data Collection\\\\Results\\\\Test resualts\\\\B3 - Hadad\\\\Hadad\\\\results\\\\features\\\\export\\\\vector\\\\HadadRD1.mat', 'C:\\\\Users\\\\Marababpour\\\\Desktop\\\\PhD project\\\\Bike saftey perception by EEG\\\\Data Collection\\\\Results\\\\Test resualts\\\\B3 - Hadad\\\\Hadad\\\\results\\\\features\\\\export\\\\vector\\\\HadadRD2.mat', 'C:\\\\Users\\\\Marababpour\\\\Desktop\\\\PhD project\\\\Bike saftey perception by EEG\\\\Data Collection\\\\Results\\\\Test resualts\\\\B3 - Hadad\\\\Hadad\\\\results\\\\features\\\\export\\\\vector\\\\HadadRD3.mat', 'C:\\\\Users\\\\Marababpour\\\\Desktop\\\\PhD project\\\\Bike saftey perception by EEG\\\\Data Collection\\\\Results\\\\Test resualts\\\\B3 - Hadad\\\\Hadad\\\\results\\\\features\\\\export\\\\vector\\\\HadadRD4.mat']\n",
      "['C:\\\\Users\\\\Marababpour\\\\Desktop\\\\PhD project\\\\Bike saftey perception by EEG\\\\Data Collection\\\\Results\\\\Test resualts\\\\B3 - Joukar\\\\Joukar\\\\results\\\\features\\\\export\\\\vector\\\\JoukarRD1.mat', 'C:\\\\Users\\\\Marababpour\\\\Desktop\\\\PhD project\\\\Bike saftey perception by EEG\\\\Data Collection\\\\Results\\\\Test resualts\\\\B3 - Joukar\\\\Joukar\\\\results\\\\features\\\\export\\\\vector\\\\JoukarRD2.mat', 'C:\\\\Users\\\\Marababpour\\\\Desktop\\\\PhD project\\\\Bike saftey perception by EEG\\\\Data Collection\\\\Results\\\\Test resualts\\\\B3 - Joukar\\\\Joukar\\\\results\\\\features\\\\export\\\\vector\\\\JoukarRD3.mat', 'C:\\\\Users\\\\Marababpour\\\\Desktop\\\\PhD project\\\\Bike saftey perception by EEG\\\\Data Collection\\\\Results\\\\Test resualts\\\\B3 - Joukar\\\\Joukar\\\\results\\\\features\\\\export\\\\vector\\\\JoukarRD4.mat']\n",
      "['C:\\\\Users\\\\Marababpour\\\\Desktop\\\\PhD project\\\\Bike saftey perception by EEG\\\\Data Collection\\\\Results\\\\Test resualts\\\\B3 - Taghaddos\\\\Taghaddos\\\\results\\\\features\\\\export\\\\vector\\\\TaghaddosRD1.mat', 'C:\\\\Users\\\\Marababpour\\\\Desktop\\\\PhD project\\\\Bike saftey perception by EEG\\\\Data Collection\\\\Results\\\\Test resualts\\\\B3 - Taghaddos\\\\Taghaddos\\\\results\\\\features\\\\export\\\\vector\\\\TaghaddosRD2.mat', 'C:\\\\Users\\\\Marababpour\\\\Desktop\\\\PhD project\\\\Bike saftey perception by EEG\\\\Data Collection\\\\Results\\\\Test resualts\\\\B3 - Taghaddos\\\\Taghaddos\\\\results\\\\features\\\\export\\\\vector\\\\TaghaddosRD3.mat', 'C:\\\\Users\\\\Marababpour\\\\Desktop\\\\PhD project\\\\Bike saftey perception by EEG\\\\Data Collection\\\\Results\\\\Test resualts\\\\B3 - Taghaddos\\\\Taghaddos\\\\results\\\\features\\\\export\\\\vector\\\\TaghaddosRD4.mat']\n",
      "['C:\\\\Users\\\\Marababpour\\\\Desktop\\\\PhD project\\\\Bike saftey perception by EEG\\\\Data Collection\\\\Results\\\\Test resualts\\\\B3 - Zamani\\\\Zamani\\\\results\\\\features\\\\export\\\\vector\\\\ZamaniRD1.mat', 'C:\\\\Users\\\\Marababpour\\\\Desktop\\\\PhD project\\\\Bike saftey perception by EEG\\\\Data Collection\\\\Results\\\\Test resualts\\\\B3 - Zamani\\\\Zamani\\\\results\\\\features\\\\export\\\\vector\\\\ZamaniRD2.mat', 'C:\\\\Users\\\\Marababpour\\\\Desktop\\\\PhD project\\\\Bike saftey perception by EEG\\\\Data Collection\\\\Results\\\\Test resualts\\\\B3 - Zamani\\\\Zamani\\\\results\\\\features\\\\export\\\\vector\\\\ZamaniRD3.mat', 'C:\\\\Users\\\\Marababpour\\\\Desktop\\\\PhD project\\\\Bike saftey perception by EEG\\\\Data Collection\\\\Results\\\\Test resualts\\\\B3 - Zamani\\\\Zamani\\\\results\\\\features\\\\export\\\\vector\\\\ZamaniRD4.mat']\n",
      "['C:\\\\Users\\\\Marababpour\\\\Desktop\\\\PhD project\\\\Bike saftey perception by EEG\\\\Data Collection\\\\Results\\\\Test resualts\\\\B3 - Zarvani\\\\Zarvani\\\\results\\\\features\\\\export\\\\vector\\\\ZarvaniRD1.mat', 'C:\\\\Users\\\\Marababpour\\\\Desktop\\\\PhD project\\\\Bike saftey perception by EEG\\\\Data Collection\\\\Results\\\\Test resualts\\\\B3 - Zarvani\\\\Zarvani\\\\results\\\\features\\\\export\\\\vector\\\\ZarvaniRD2.mat', 'C:\\\\Users\\\\Marababpour\\\\Desktop\\\\PhD project\\\\Bike saftey perception by EEG\\\\Data Collection\\\\Results\\\\Test resualts\\\\B3 - Zarvani\\\\Zarvani\\\\results\\\\features\\\\export\\\\vector\\\\ZarvaniRD3.mat', 'C:\\\\Users\\\\Marababpour\\\\Desktop\\\\PhD project\\\\Bike saftey perception by EEG\\\\Data Collection\\\\Results\\\\Test resualts\\\\B3 - Zarvani\\\\Zarvani\\\\results\\\\features\\\\export\\\\vector\\\\ZarvaniRD4.mat']\n",
      "['C:\\\\Users\\\\Marababpour\\\\Desktop\\\\PhD project\\\\Bike saftey perception by EEG\\\\Data Collection\\\\Results\\\\Test resualts\\\\B4 - Amiri\\\\Amiri\\\\results\\\\features\\\\export\\\\vector\\\\AmiriRD1.mat', 'C:\\\\Users\\\\Marababpour\\\\Desktop\\\\PhD project\\\\Bike saftey perception by EEG\\\\Data Collection\\\\Results\\\\Test resualts\\\\B4 - Amiri\\\\Amiri\\\\results\\\\features\\\\export\\\\vector\\\\AmiriRD2.mat', 'C:\\\\Users\\\\Marababpour\\\\Desktop\\\\PhD project\\\\Bike saftey perception by EEG\\\\Data Collection\\\\Results\\\\Test resualts\\\\B4 - Amiri\\\\Amiri\\\\results\\\\features\\\\export\\\\vector\\\\AmiriRD3.mat', 'C:\\\\Users\\\\Marababpour\\\\Desktop\\\\PhD project\\\\Bike saftey perception by EEG\\\\Data Collection\\\\Results\\\\Test resualts\\\\B4 - Amiri\\\\Amiri\\\\results\\\\features\\\\export\\\\vector\\\\AmiriRD4.mat']\n",
      "['C:\\\\Users\\\\Marababpour\\\\Desktop\\\\PhD project\\\\Bike saftey perception by EEG\\\\Data Collection\\\\Results\\\\Test resualts\\\\B4 - Arbabpour\\\\Arbabpour\\\\results\\\\features\\\\export\\\\vector\\\\ArbabpourRD1.mat', 'C:\\\\Users\\\\Marababpour\\\\Desktop\\\\PhD project\\\\Bike saftey perception by EEG\\\\Data Collection\\\\Results\\\\Test resualts\\\\B4 - Arbabpour\\\\Arbabpour\\\\results\\\\features\\\\export\\\\vector\\\\ArbabpourRD2.mat', 'C:\\\\Users\\\\Marababpour\\\\Desktop\\\\PhD project\\\\Bike saftey perception by EEG\\\\Data Collection\\\\Results\\\\Test resualts\\\\B4 - Arbabpour\\\\Arbabpour\\\\results\\\\features\\\\export\\\\vector\\\\ArbabpourRD3.mat', 'C:\\\\Users\\\\Marababpour\\\\Desktop\\\\PhD project\\\\Bike saftey perception by EEG\\\\Data Collection\\\\Results\\\\Test resualts\\\\B4 - Arbabpour\\\\Arbabpour\\\\results\\\\features\\\\export\\\\vector\\\\ArbabpourRD4.mat']\n",
      "['C:\\\\Users\\\\Marababpour\\\\Desktop\\\\PhD project\\\\Bike saftey perception by EEG\\\\Data Collection\\\\Results\\\\Test resualts\\\\B4 - FarajolahiR\\\\FarajolahiR\\\\results\\\\features\\\\export\\\\vector\\\\FarajolahiRRD1.mat', 'C:\\\\Users\\\\Marababpour\\\\Desktop\\\\PhD project\\\\Bike saftey perception by EEG\\\\Data Collection\\\\Results\\\\Test resualts\\\\B4 - FarajolahiR\\\\FarajolahiR\\\\results\\\\features\\\\export\\\\vector\\\\FarajolahiRRD2.mat', 'C:\\\\Users\\\\Marababpour\\\\Desktop\\\\PhD project\\\\Bike saftey perception by EEG\\\\Data Collection\\\\Results\\\\Test resualts\\\\B4 - FarajolahiR\\\\FarajolahiR\\\\results\\\\features\\\\export\\\\vector\\\\FarajolahiRRD3.mat', 'C:\\\\Users\\\\Marababpour\\\\Desktop\\\\PhD project\\\\Bike saftey perception by EEG\\\\Data Collection\\\\Results\\\\Test resualts\\\\B4 - FarajolahiR\\\\FarajolahiR\\\\results\\\\features\\\\export\\\\vector\\\\FarajolahiRRD4.mat']\n",
      "[]\n",
      "[]\n",
      "[]\n",
      "['C:\\\\Users\\\\Marababpour\\\\Desktop\\\\PhD project\\\\Bike saftey perception by EEG\\\\Data Collection\\\\Results\\\\Test resualts\\\\B4 - Mahmoudi\\\\Mahmoudi\\\\results\\\\features\\\\export\\\\vector\\\\MahmoudiRD1.mat', 'C:\\\\Users\\\\Marababpour\\\\Desktop\\\\PhD project\\\\Bike saftey perception by EEG\\\\Data Collection\\\\Results\\\\Test resualts\\\\B4 - Mahmoudi\\\\Mahmoudi\\\\results\\\\features\\\\export\\\\vector\\\\MahmoudiRD2.mat', 'C:\\\\Users\\\\Marababpour\\\\Desktop\\\\PhD project\\\\Bike saftey perception by EEG\\\\Data Collection\\\\Results\\\\Test resualts\\\\B4 - Mahmoudi\\\\Mahmoudi\\\\results\\\\features\\\\export\\\\vector\\\\MahmoudiRD3.mat', 'C:\\\\Users\\\\Marababpour\\\\Desktop\\\\PhD project\\\\Bike saftey perception by EEG\\\\Data Collection\\\\Results\\\\Test resualts\\\\B4 - Mahmoudi\\\\Mahmoudi\\\\results\\\\features\\\\export\\\\vector\\\\MahmoudiRD4.mat']\n",
      "['C:\\\\Users\\\\Marababpour\\\\Desktop\\\\PhD project\\\\Bike saftey perception by EEG\\\\Data Collection\\\\Results\\\\Test resualts\\\\B4 - Moradian\\\\Moradian\\\\results\\\\features\\\\export\\\\vector\\\\MoradianRD1.mat', 'C:\\\\Users\\\\Marababpour\\\\Desktop\\\\PhD project\\\\Bike saftey perception by EEG\\\\Data Collection\\\\Results\\\\Test resualts\\\\B4 - Moradian\\\\Moradian\\\\results\\\\features\\\\export\\\\vector\\\\MoradianRD2.mat', 'C:\\\\Users\\\\Marababpour\\\\Desktop\\\\PhD project\\\\Bike saftey perception by EEG\\\\Data Collection\\\\Results\\\\Test resualts\\\\B4 - Moradian\\\\Moradian\\\\results\\\\features\\\\export\\\\vector\\\\MoradianRD3.mat', 'C:\\\\Users\\\\Marababpour\\\\Desktop\\\\PhD project\\\\Bike saftey perception by EEG\\\\Data Collection\\\\Results\\\\Test resualts\\\\B4 - Moradian\\\\Moradian\\\\results\\\\features\\\\export\\\\vector\\\\MoradianRD4.mat']\n",
      "['C:\\\\Users\\\\Marababpour\\\\Desktop\\\\PhD project\\\\Bike saftey perception by EEG\\\\Data Collection\\\\Results\\\\Test resualts\\\\B4 - Parsaiaan\\\\Parsaiaan\\\\results\\\\features\\\\export\\\\vector\\\\ParsaiaanRD1.mat', 'C:\\\\Users\\\\Marababpour\\\\Desktop\\\\PhD project\\\\Bike saftey perception by EEG\\\\Data Collection\\\\Results\\\\Test resualts\\\\B4 - Parsaiaan\\\\Parsaiaan\\\\results\\\\features\\\\export\\\\vector\\\\ParsaiaanRD2.mat', 'C:\\\\Users\\\\Marababpour\\\\Desktop\\\\PhD project\\\\Bike saftey perception by EEG\\\\Data Collection\\\\Results\\\\Test resualts\\\\B4 - Parsaiaan\\\\Parsaiaan\\\\results\\\\features\\\\export\\\\vector\\\\ParsaiaanRD3.mat', 'C:\\\\Users\\\\Marababpour\\\\Desktop\\\\PhD project\\\\Bike saftey perception by EEG\\\\Data Collection\\\\Results\\\\Test resualts\\\\B4 - Parsaiaan\\\\Parsaiaan\\\\results\\\\features\\\\export\\\\vector\\\\ParsaiaanRD4.mat']\n",
      "['C:\\\\Users\\\\Marababpour\\\\Desktop\\\\PhD project\\\\Bike saftey perception by EEG\\\\Data Collection\\\\Results\\\\Test resualts\\\\B4 - Ramez\\\\Ramez\\\\results\\\\features\\\\export\\\\vector\\\\RamezRD1.mat', 'C:\\\\Users\\\\Marababpour\\\\Desktop\\\\PhD project\\\\Bike saftey perception by EEG\\\\Data Collection\\\\Results\\\\Test resualts\\\\B4 - Ramez\\\\Ramez\\\\results\\\\features\\\\export\\\\vector\\\\RamezRD2.mat', 'C:\\\\Users\\\\Marababpour\\\\Desktop\\\\PhD project\\\\Bike saftey perception by EEG\\\\Data Collection\\\\Results\\\\Test resualts\\\\B4 - Ramez\\\\Ramez\\\\results\\\\features\\\\export\\\\vector\\\\RamezRD3.mat', 'C:\\\\Users\\\\Marababpour\\\\Desktop\\\\PhD project\\\\Bike saftey perception by EEG\\\\Data Collection\\\\Results\\\\Test resualts\\\\B4 - Ramez\\\\Ramez\\\\results\\\\features\\\\export\\\\vector\\\\RamezRD4.mat']\n",
      "['C:\\\\Users\\\\Marababpour\\\\Desktop\\\\PhD project\\\\Bike saftey perception by EEG\\\\Data Collection\\\\Results\\\\Test resualts\\\\B4 - Yaseri\\\\Yaseri\\\\results\\\\features\\\\export\\\\vector\\\\YaseriRD1.mat', 'C:\\\\Users\\\\Marababpour\\\\Desktop\\\\PhD project\\\\Bike saftey perception by EEG\\\\Data Collection\\\\Results\\\\Test resualts\\\\B4 - Yaseri\\\\Yaseri\\\\results\\\\features\\\\export\\\\vector\\\\YaseriRD2.mat', 'C:\\\\Users\\\\Marababpour\\\\Desktop\\\\PhD project\\\\Bike saftey perception by EEG\\\\Data Collection\\\\Results\\\\Test resualts\\\\B4 - Yaseri\\\\Yaseri\\\\results\\\\features\\\\export\\\\vector\\\\YaseriRD3.mat', 'C:\\\\Users\\\\Marababpour\\\\Desktop\\\\PhD project\\\\Bike saftey perception by EEG\\\\Data Collection\\\\Results\\\\Test resualts\\\\B4 - Yaseri\\\\Yaseri\\\\results\\\\features\\\\export\\\\vector\\\\YaseriRD4.mat']\n",
      "[]\n",
      "['C:\\\\Users\\\\Marababpour\\\\Desktop\\\\PhD project\\\\Bike saftey perception by EEG\\\\Data Collection\\\\Results\\\\Test resualts\\\\B5 - Darvishi\\\\Darvishi\\\\results\\\\features\\\\export\\\\vector\\\\DarvishiRD1.mat', 'C:\\\\Users\\\\Marababpour\\\\Desktop\\\\PhD project\\\\Bike saftey perception by EEG\\\\Data Collection\\\\Results\\\\Test resualts\\\\B5 - Darvishi\\\\Darvishi\\\\results\\\\features\\\\export\\\\vector\\\\DarvishiRD2.mat', 'C:\\\\Users\\\\Marababpour\\\\Desktop\\\\PhD project\\\\Bike saftey perception by EEG\\\\Data Collection\\\\Results\\\\Test resualts\\\\B5 - Darvishi\\\\Darvishi\\\\results\\\\features\\\\export\\\\vector\\\\DarvishiRD3.mat', 'C:\\\\Users\\\\Marababpour\\\\Desktop\\\\PhD project\\\\Bike saftey perception by EEG\\\\Data Collection\\\\Results\\\\Test resualts\\\\B5 - Darvishi\\\\Darvishi\\\\results\\\\features\\\\export\\\\vector\\\\DarvishiRD4.mat']\n",
      "['C:\\\\Users\\\\Marababpour\\\\Desktop\\\\PhD project\\\\Bike saftey perception by EEG\\\\Data Collection\\\\Results\\\\Test resualts\\\\B5 - Farajolahi\\\\Farajolahi\\\\results\\\\features\\\\export\\\\vector\\\\FarajolahiRD1.mat', 'C:\\\\Users\\\\Marababpour\\\\Desktop\\\\PhD project\\\\Bike saftey perception by EEG\\\\Data Collection\\\\Results\\\\Test resualts\\\\B5 - Farajolahi\\\\Farajolahi\\\\results\\\\features\\\\export\\\\vector\\\\FarajolahiRD2.mat', 'C:\\\\Users\\\\Marababpour\\\\Desktop\\\\PhD project\\\\Bike saftey perception by EEG\\\\Data Collection\\\\Results\\\\Test resualts\\\\B5 - Farajolahi\\\\Farajolahi\\\\results\\\\features\\\\export\\\\vector\\\\FarajolahiRD3.mat', 'C:\\\\Users\\\\Marababpour\\\\Desktop\\\\PhD project\\\\Bike saftey perception by EEG\\\\Data Collection\\\\Results\\\\Test resualts\\\\B5 - Farajolahi\\\\Farajolahi\\\\results\\\\features\\\\export\\\\vector\\\\FarajolahiRD4.mat']\n",
      "['C:\\\\Users\\\\Marababpour\\\\Desktop\\\\PhD project\\\\Bike saftey perception by EEG\\\\Data Collection\\\\Results\\\\Test resualts\\\\B5 - Ghorbani\\\\Ghorbani\\\\results\\\\features\\\\export\\\\vector\\\\GhorbaniRD1.mat', 'C:\\\\Users\\\\Marababpour\\\\Desktop\\\\PhD project\\\\Bike saftey perception by EEG\\\\Data Collection\\\\Results\\\\Test resualts\\\\B5 - Ghorbani\\\\Ghorbani\\\\results\\\\features\\\\export\\\\vector\\\\GhorbaniRD2.mat', 'C:\\\\Users\\\\Marababpour\\\\Desktop\\\\PhD project\\\\Bike saftey perception by EEG\\\\Data Collection\\\\Results\\\\Test resualts\\\\B5 - Ghorbani\\\\Ghorbani\\\\results\\\\features\\\\export\\\\vector\\\\GhorbaniRD3.mat', 'C:\\\\Users\\\\Marababpour\\\\Desktop\\\\PhD project\\\\Bike saftey perception by EEG\\\\Data Collection\\\\Results\\\\Test resualts\\\\B5 - Ghorbani\\\\Ghorbani\\\\results\\\\features\\\\export\\\\vector\\\\GhorbaniRD4.mat']\n",
      "['C:\\\\Users\\\\Marababpour\\\\Desktop\\\\PhD project\\\\Bike saftey perception by EEG\\\\Data Collection\\\\Results\\\\Test resualts\\\\B5 - Hayat\\\\Hayat\\\\results\\\\features\\\\export\\\\vector\\\\HayatRD1.mat', 'C:\\\\Users\\\\Marababpour\\\\Desktop\\\\PhD project\\\\Bike saftey perception by EEG\\\\Data Collection\\\\Results\\\\Test resualts\\\\B5 - Hayat\\\\Hayat\\\\results\\\\features\\\\export\\\\vector\\\\HayatRD2.mat', 'C:\\\\Users\\\\Marababpour\\\\Desktop\\\\PhD project\\\\Bike saftey perception by EEG\\\\Data Collection\\\\Results\\\\Test resualts\\\\B5 - Hayat\\\\Hayat\\\\results\\\\features\\\\export\\\\vector\\\\HayatRD3.mat', 'C:\\\\Users\\\\Marababpour\\\\Desktop\\\\PhD project\\\\Bike saftey perception by EEG\\\\Data Collection\\\\Results\\\\Test resualts\\\\B5 - Hayat\\\\Hayat\\\\results\\\\features\\\\export\\\\vector\\\\HayatRD4.mat']\n",
      "['C:\\\\Users\\\\Marababpour\\\\Desktop\\\\PhD project\\\\Bike saftey perception by EEG\\\\Data Collection\\\\Results\\\\Test resualts\\\\B5 - Hosseinzadegan\\\\Hosseinzadegan\\\\results\\\\features\\\\export\\\\vector\\\\HosseinzadeganRD1.mat', 'C:\\\\Users\\\\Marababpour\\\\Desktop\\\\PhD project\\\\Bike saftey perception by EEG\\\\Data Collection\\\\Results\\\\Test resualts\\\\B5 - Hosseinzadegan\\\\Hosseinzadegan\\\\results\\\\features\\\\export\\\\vector\\\\HosseinzadeganRD2.mat', 'C:\\\\Users\\\\Marababpour\\\\Desktop\\\\PhD project\\\\Bike saftey perception by EEG\\\\Data Collection\\\\Results\\\\Test resualts\\\\B5 - Hosseinzadegan\\\\Hosseinzadegan\\\\results\\\\features\\\\export\\\\vector\\\\HosseinzadeganRD3.mat', 'C:\\\\Users\\\\Marababpour\\\\Desktop\\\\PhD project\\\\Bike saftey perception by EEG\\\\Data Collection\\\\Results\\\\Test resualts\\\\B5 - Hosseinzadegan\\\\Hosseinzadegan\\\\results\\\\features\\\\export\\\\vector\\\\HosseinzadeganRD4.mat']\n",
      "['C:\\\\Users\\\\Marababpour\\\\Desktop\\\\PhD project\\\\Bike saftey perception by EEG\\\\Data Collection\\\\Results\\\\Test resualts\\\\B5 - JelibaghooF\\\\JelibaghooF\\\\results\\\\features\\\\export\\\\vector\\\\JelibaghooFRD1.mat', 'C:\\\\Users\\\\Marababpour\\\\Desktop\\\\PhD project\\\\Bike saftey perception by EEG\\\\Data Collection\\\\Results\\\\Test resualts\\\\B5 - JelibaghooF\\\\JelibaghooF\\\\results\\\\features\\\\export\\\\vector\\\\JelibaghooFRD2.mat', 'C:\\\\Users\\\\Marababpour\\\\Desktop\\\\PhD project\\\\Bike saftey perception by EEG\\\\Data Collection\\\\Results\\\\Test resualts\\\\B5 - JelibaghooF\\\\JelibaghooF\\\\results\\\\features\\\\export\\\\vector\\\\JelibaghooFRD3.mat', 'C:\\\\Users\\\\Marababpour\\\\Desktop\\\\PhD project\\\\Bike saftey perception by EEG\\\\Data Collection\\\\Results\\\\Test resualts\\\\B5 - JelibaghooF\\\\JelibaghooF\\\\results\\\\features\\\\export\\\\vector\\\\JelibaghooFRD4.mat']\n",
      "['C:\\\\Users\\\\Marababpour\\\\Desktop\\\\PhD project\\\\Bike saftey perception by EEG\\\\Data Collection\\\\Results\\\\Test resualts\\\\B5 - Khosravi\\\\Khosravi\\\\results\\\\features\\\\export\\\\vector\\\\KhosraviRD1.mat', 'C:\\\\Users\\\\Marababpour\\\\Desktop\\\\PhD project\\\\Bike saftey perception by EEG\\\\Data Collection\\\\Results\\\\Test resualts\\\\B5 - Khosravi\\\\Khosravi\\\\results\\\\features\\\\export\\\\vector\\\\KhosraviRD2.mat', 'C:\\\\Users\\\\Marababpour\\\\Desktop\\\\PhD project\\\\Bike saftey perception by EEG\\\\Data Collection\\\\Results\\\\Test resualts\\\\B5 - Khosravi\\\\Khosravi\\\\results\\\\features\\\\export\\\\vector\\\\KhosraviRD3.mat', 'C:\\\\Users\\\\Marababpour\\\\Desktop\\\\PhD project\\\\Bike saftey perception by EEG\\\\Data Collection\\\\Results\\\\Test resualts\\\\B5 - Khosravi\\\\Khosravi\\\\results\\\\features\\\\export\\\\vector\\\\KhosraviRD4.mat']\n",
      "['C:\\\\Users\\\\Marababpour\\\\Desktop\\\\PhD project\\\\Bike saftey perception by EEG\\\\Data Collection\\\\Results\\\\Test resualts\\\\B5 - Rohalmani\\\\Rohalmani\\\\results\\\\features\\\\export\\\\vector\\\\RohalmaniRD1.mat', 'C:\\\\Users\\\\Marababpour\\\\Desktop\\\\PhD project\\\\Bike saftey perception by EEG\\\\Data Collection\\\\Results\\\\Test resualts\\\\B5 - Rohalmani\\\\Rohalmani\\\\results\\\\features\\\\export\\\\vector\\\\RohalmaniRD2.mat', 'C:\\\\Users\\\\Marababpour\\\\Desktop\\\\PhD project\\\\Bike saftey perception by EEG\\\\Data Collection\\\\Results\\\\Test resualts\\\\B5 - Rohalmani\\\\Rohalmani\\\\results\\\\features\\\\export\\\\vector\\\\RohalmaniRD3.mat', 'C:\\\\Users\\\\Marababpour\\\\Desktop\\\\PhD project\\\\Bike saftey perception by EEG\\\\Data Collection\\\\Results\\\\Test resualts\\\\B5 - Rohalmani\\\\Rohalmani\\\\results\\\\features\\\\export\\\\vector\\\\RohalmaniRD4.mat']\n",
      "['C:\\\\Users\\\\Marababpour\\\\Desktop\\\\PhD project\\\\Bike saftey perception by EEG\\\\Data Collection\\\\Results\\\\Test resualts\\\\B5 - Soltani\\\\Soltani\\\\results\\\\features\\\\export\\\\vector\\\\SoltaniRD1.mat', 'C:\\\\Users\\\\Marababpour\\\\Desktop\\\\PhD project\\\\Bike saftey perception by EEG\\\\Data Collection\\\\Results\\\\Test resualts\\\\B5 - Soltani\\\\Soltani\\\\results\\\\features\\\\export\\\\vector\\\\SoltaniRD2.mat', 'C:\\\\Users\\\\Marababpour\\\\Desktop\\\\PhD project\\\\Bike saftey perception by EEG\\\\Data Collection\\\\Results\\\\Test resualts\\\\B5 - Soltani\\\\Soltani\\\\results\\\\features\\\\export\\\\vector\\\\SoltaniRD3.mat', 'C:\\\\Users\\\\Marababpour\\\\Desktop\\\\PhD project\\\\Bike saftey perception by EEG\\\\Data Collection\\\\Results\\\\Test resualts\\\\B5 - Soltani\\\\Soltani\\\\results\\\\features\\\\export\\\\vector\\\\SoltaniRD4.mat']\n",
      "['C:\\\\Users\\\\Marababpour\\\\Desktop\\\\PhD project\\\\Bike saftey perception by EEG\\\\Data Collection\\\\Results\\\\Test resualts\\\\B5 - Yaseri\\\\Yaseri\\\\results\\\\features\\\\export\\\\vector\\\\YaseriRD1.mat', 'C:\\\\Users\\\\Marababpour\\\\Desktop\\\\PhD project\\\\Bike saftey perception by EEG\\\\Data Collection\\\\Results\\\\Test resualts\\\\B5 - Yaseri\\\\Yaseri\\\\results\\\\features\\\\export\\\\vector\\\\YaseriRD2.mat', 'C:\\\\Users\\\\Marababpour\\\\Desktop\\\\PhD project\\\\Bike saftey perception by EEG\\\\Data Collection\\\\Results\\\\Test resualts\\\\B5 - Yaseri\\\\Yaseri\\\\results\\\\features\\\\export\\\\vector\\\\YaseriRD3.mat', 'C:\\\\Users\\\\Marababpour\\\\Desktop\\\\PhD project\\\\Bike saftey perception by EEG\\\\Data Collection\\\\Results\\\\Test resualts\\\\B5 - Yaseri\\\\Yaseri\\\\results\\\\features\\\\export\\\\vector\\\\YaseriRD4.mat']\n"
     ]
    }
   ],
   "source": [
    "s = glob.glob('C:\\\\Users\\\\Marababpour\\\\Desktop\\\\PhD project\\\\Bike saftey perception by EEG\\\\Data Collection\\\\Results\\\\Test resualts\\\\*')\n",
    "print(len(s))\n",
    "for i in s:\n",
    "    name = i.split('\\\\')[-1].split(' ')[-1]\n",
    "    path = i+'\\\\'+name+'\\\\results\\\\features\\\\export\\\\vector\\\\'\n",
    "    m = glob.glob(path+'*RD*.mat')\n",
    "\n"
   ]
  },
  {
   "cell_type": "markdown",
   "metadata": {},
   "source": [
    "# Speed"
   ]
  },
  {
   "cell_type": "code",
   "execution_count": null,
   "metadata": {},
   "outputs": [],
   "source": [
    "s=glob.glob('C:\\\\Users\\Marababpour\\Desktop\\PhD project\\Bike saftey perception by EEG\\Data Collection\\Results\\Test resualts\\*')"
   ]
  },
  {
   "cell_type": "code",
   "execution_count": null,
   "metadata": {},
   "outputs": [],
   "source": [
    "len(s)"
   ]
  },
  {
   "cell_type": "code",
   "execution_count": null,
   "metadata": {},
   "outputs": [],
   "source": [
    "names = []\n",
    "from itertools import repeat\n",
    "import random\n",
    "for i,item in enumerate(s):\n",
    "    m = glob.glob(item+'\\\\'+'*.csv')\n",
    "    l = len(m)\n",
    "#     print(item)\n",
    "    name = item.split('\\\\')[-1]\n",
    "#     print(name)\n",
    "    names.append(name)\n",
    "    for j in range(i*l,(i*l)+l-1):\n",
    "        if j not in names:\n",
    "            names.append(j)\n",
    "        else:\n",
    "            names.append(2*j)\n",
    "#             print(names.append(random.randint(1,10)))\n",
    "# boroooo\n",
    "# booosss"
   ]
  },
  {
   "cell_type": "code",
   "execution_count": null,
   "metadata": {},
   "outputs": [],
   "source": [
    "unique_duplicates = set(names)\n",
    "print(unique_duplicates)\n",
    "len(unique_duplicates)"
   ]
  },
  {
   "cell_type": "code",
   "execution_count": null,
   "metadata": {},
   "outputs": [],
   "source": [
    "len(names)"
   ]
  },
  {
   "cell_type": "code",
   "execution_count": null,
   "metadata": {},
   "outputs": [],
   "source": [
    "pd.read_csv(s[0],engine='python')"
   ]
  },
  {
   "cell_type": "code",
   "execution_count": null,
   "metadata": {},
   "outputs": [],
   "source": [
    "df = pd.concat(map(pd.read_csv(), s), ignore_index=False,axis=1,keys=names)"
   ]
  },
  {
   "cell_type": "code",
   "execution_count": null,
   "metadata": {},
   "outputs": [],
   "source": [
    "df"
   ]
  },
  {
   "cell_type": "code",
   "execution_count": null,
   "metadata": {},
   "outputs": [],
   "source": [
    "df.to_csv('final.csv')"
   ]
  },
  {
   "cell_type": "code",
   "execution_count": null,
   "metadata": {},
   "outputs": [],
   "source": [
    "# names = []\n",
    "# from itertools import repeat\n",
    "# for i,item in enumerate(participants[0::4]):\n",
    "#     print(item)\n",
    "#     name = item.split('\\\\')[-2]\n",
    "#     names.append(name)\n",
    "#     i=i+1\n",
    "# #     print(i)\n",
    "    \n",
    "#     for j in range(i*3,(i*3)+3):\n",
    "#         names.append(j)\n",
    "    \n",
    "# # names2 = [x for item in names for x in repeat(item, 4)]"
   ]
  },
  {
   "cell_type": "code",
   "execution_count": null,
   "metadata": {},
   "outputs": [],
   "source": [
    "# b = pd.DataFrame(columns=['time','speed'])\n",
    "# for participant in participants:\n",
    "    \n",
    "#     print('Paitient: ',participant.split('\\\\')[-1])\n",
    "# #     files = glob.glob(participant+'\\*.csv')\n",
    "#     print('Num of txt Files: ',len(files))\n",
    "# #     print(len(files))\n",
    "# df = pd.concat(map(pd.read_csv, participants), ignore_index=False,axis=1,keys=names)\n",
    "# print(df)\n",
    "# print('8888888888888888888888888888888888888')\n",
    "    \n",
    "#     df.to_csv('new4.csv',mode='a')\n",
    "#     df2.concat(df)\n",
    "#     for file in files:\n",
    "#         file_name = file.split('\\\\')[-1].split('.')[0]\n",
    "#         print('File_name: ',file_name)\n",
    "#         a = pd.read_csv(file,header=None,index_col=None)\n",
    "#         print(type(a))\n",
    "# #         a = a.drop(0)\n",
    "#         print('Lenght of csv file: ',len(a))\n",
    "#         b = pd.concat(a,axis=1)\n",
    "\n",
    "#         for i,item in enumerate(a[0]):\n",
    "#             b.loc[i,'time']=item.split(' :')[1].split(' ')[1].replace('s','')\n",
    "#             b.loc[i,'speed']=item.split(':')[2].split(' ')[0]\n",
    "#         b.to_csv(patient+'\\\\'+file_name+'.csv',index=False)\n",
    "#         print('Lenght of csv file: ',len(b))\n",
    "#         b = pd.DataFrame(columns=['time','speed'])\n",
    "#         print('Check empty b!',len(b))\n",
    "    \n",
    "        "
   ]
  },
  {
   "cell_type": "code",
   "execution_count": null,
   "metadata": {},
   "outputs": [],
   "source": [
    "df"
   ]
  },
  {
   "cell_type": "code",
   "execution_count": null,
   "metadata": {},
   "outputs": [],
   "source": [
    "# joined_files = os.path.join(\"/home\", \"mydata*.csv\")\n",
    "  \n",
    "# A list of all joined files is returned\n",
    "# joined_list = glob.glob(joined_files)\n",
    "  \n",
    "# Finally, the files are joined\n",
    "# names=['s','z','sara','mohammad']\n",
    "print(len(files))\n",
    "df = pd.concat(map(pd.read_csv, files), ignore_index=False,axis=1,keys=names)\n",
    "print(df)\n",
    "# df.to_csv('new3.csv')"
   ]
  }
 ],
 "metadata": {
  "kernelspec": {
   "display_name": "Python 3 (ipykernel)",
   "language": "python",
   "name": "python3"
  },
  "language_info": {
   "codemirror_mode": {
    "name": "ipython",
    "version": 3
   },
   "file_extension": ".py",
   "mimetype": "text/x-python",
   "name": "python",
   "nbconvert_exporter": "python",
   "pygments_lexer": "ipython3",
   "version": "3.8.10"
  }
 },
 "nbformat": 4,
 "nbformat_minor": 2
}
